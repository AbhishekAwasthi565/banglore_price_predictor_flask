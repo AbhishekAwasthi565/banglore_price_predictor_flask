{
 "cells": [
  {
   "cell_type": "code",
   "execution_count": 3,
   "id": "b27692a4",
   "metadata": {
    "papermill": {
     "duration": 2.078765,
     "end_time": "2025-07-01T18:31:15.043266",
     "exception": false,
     "start_time": "2025-07-01T18:31:12.964501",
     "status": "completed"
    },
    "tags": []
   },
   "outputs": [],
   "source": [
    "import pandas as pd\n",
    "import numpy as np\n",
    "import matplotlib.pyplot as plt\n",
    "%matplotlib inline\n",
    "import matplotlib\n",
    "matplotlib.rcParams[\"figure.figsize\"]=(20,20)"
   ]
  },
  {
   "cell_type": "code",
   "execution_count": 4,
   "id": "8d081d6f",
   "metadata": {
    "papermill": {
     "duration": 0.08809,
     "end_time": "2025-07-01T18:31:15.146023",
     "exception": false,
     "start_time": "2025-07-01T18:31:15.057933",
     "status": "completed"
    },
    "tags": []
   },
   "outputs": [
    {
     "ename": "FileNotFoundError",
     "evalue": "[Errno 2] No such file or directory: '/kaggle/input/bengaluru-house-price-data/Bengaluru_House_Data.csv'",
     "output_type": "error",
     "traceback": [
      "\u001b[1;31m---------------------------------------------------------------------------\u001b[0m",
      "\u001b[1;31mFileNotFoundError\u001b[0m                         Traceback (most recent call last)",
      "Cell \u001b[1;32mIn[4], line 1\u001b[0m\n\u001b[1;32m----> 1\u001b[0m df1\u001b[38;5;241m=\u001b[39mpd\u001b[38;5;241m.\u001b[39mread_csv(\u001b[38;5;124m\"\u001b[39m\u001b[38;5;124m/kaggle/input/bengaluru-house-price-data/Bengaluru_House_Data.csv\u001b[39m\u001b[38;5;124m\"\u001b[39m)\n",
      "File \u001b[1;32m~\\anaconda3\\Lib\\site-packages\\pandas\\io\\parsers\\readers.py:1026\u001b[0m, in \u001b[0;36mread_csv\u001b[1;34m(filepath_or_buffer, sep, delimiter, header, names, index_col, usecols, dtype, engine, converters, true_values, false_values, skipinitialspace, skiprows, skipfooter, nrows, na_values, keep_default_na, na_filter, verbose, skip_blank_lines, parse_dates, infer_datetime_format, keep_date_col, date_parser, date_format, dayfirst, cache_dates, iterator, chunksize, compression, thousands, decimal, lineterminator, quotechar, quoting, doublequote, escapechar, comment, encoding, encoding_errors, dialect, on_bad_lines, delim_whitespace, low_memory, memory_map, float_precision, storage_options, dtype_backend)\u001b[0m\n\u001b[0;32m   1013\u001b[0m kwds_defaults \u001b[38;5;241m=\u001b[39m _refine_defaults_read(\n\u001b[0;32m   1014\u001b[0m     dialect,\n\u001b[0;32m   1015\u001b[0m     delimiter,\n\u001b[1;32m   (...)\u001b[0m\n\u001b[0;32m   1022\u001b[0m     dtype_backend\u001b[38;5;241m=\u001b[39mdtype_backend,\n\u001b[0;32m   1023\u001b[0m )\n\u001b[0;32m   1024\u001b[0m kwds\u001b[38;5;241m.\u001b[39mupdate(kwds_defaults)\n\u001b[1;32m-> 1026\u001b[0m \u001b[38;5;28;01mreturn\u001b[39;00m _read(filepath_or_buffer, kwds)\n",
      "File \u001b[1;32m~\\anaconda3\\Lib\\site-packages\\pandas\\io\\parsers\\readers.py:620\u001b[0m, in \u001b[0;36m_read\u001b[1;34m(filepath_or_buffer, kwds)\u001b[0m\n\u001b[0;32m    617\u001b[0m _validate_names(kwds\u001b[38;5;241m.\u001b[39mget(\u001b[38;5;124m\"\u001b[39m\u001b[38;5;124mnames\u001b[39m\u001b[38;5;124m\"\u001b[39m, \u001b[38;5;28;01mNone\u001b[39;00m))\n\u001b[0;32m    619\u001b[0m \u001b[38;5;66;03m# Create the parser.\u001b[39;00m\n\u001b[1;32m--> 620\u001b[0m parser \u001b[38;5;241m=\u001b[39m TextFileReader(filepath_or_buffer, \u001b[38;5;241m*\u001b[39m\u001b[38;5;241m*\u001b[39mkwds)\n\u001b[0;32m    622\u001b[0m \u001b[38;5;28;01mif\u001b[39;00m chunksize \u001b[38;5;129;01mor\u001b[39;00m iterator:\n\u001b[0;32m    623\u001b[0m     \u001b[38;5;28;01mreturn\u001b[39;00m parser\n",
      "File \u001b[1;32m~\\anaconda3\\Lib\\site-packages\\pandas\\io\\parsers\\readers.py:1620\u001b[0m, in \u001b[0;36mTextFileReader.__init__\u001b[1;34m(self, f, engine, **kwds)\u001b[0m\n\u001b[0;32m   1617\u001b[0m     \u001b[38;5;28mself\u001b[39m\u001b[38;5;241m.\u001b[39moptions[\u001b[38;5;124m\"\u001b[39m\u001b[38;5;124mhas_index_names\u001b[39m\u001b[38;5;124m\"\u001b[39m] \u001b[38;5;241m=\u001b[39m kwds[\u001b[38;5;124m\"\u001b[39m\u001b[38;5;124mhas_index_names\u001b[39m\u001b[38;5;124m\"\u001b[39m]\n\u001b[0;32m   1619\u001b[0m \u001b[38;5;28mself\u001b[39m\u001b[38;5;241m.\u001b[39mhandles: IOHandles \u001b[38;5;241m|\u001b[39m \u001b[38;5;28;01mNone\u001b[39;00m \u001b[38;5;241m=\u001b[39m \u001b[38;5;28;01mNone\u001b[39;00m\n\u001b[1;32m-> 1620\u001b[0m \u001b[38;5;28mself\u001b[39m\u001b[38;5;241m.\u001b[39m_engine \u001b[38;5;241m=\u001b[39m \u001b[38;5;28mself\u001b[39m\u001b[38;5;241m.\u001b[39m_make_engine(f, \u001b[38;5;28mself\u001b[39m\u001b[38;5;241m.\u001b[39mengine)\n",
      "File \u001b[1;32m~\\anaconda3\\Lib\\site-packages\\pandas\\io\\parsers\\readers.py:1880\u001b[0m, in \u001b[0;36mTextFileReader._make_engine\u001b[1;34m(self, f, engine)\u001b[0m\n\u001b[0;32m   1878\u001b[0m     \u001b[38;5;28;01mif\u001b[39;00m \u001b[38;5;124m\"\u001b[39m\u001b[38;5;124mb\u001b[39m\u001b[38;5;124m\"\u001b[39m \u001b[38;5;129;01mnot\u001b[39;00m \u001b[38;5;129;01min\u001b[39;00m mode:\n\u001b[0;32m   1879\u001b[0m         mode \u001b[38;5;241m+\u001b[39m\u001b[38;5;241m=\u001b[39m \u001b[38;5;124m\"\u001b[39m\u001b[38;5;124mb\u001b[39m\u001b[38;5;124m\"\u001b[39m\n\u001b[1;32m-> 1880\u001b[0m \u001b[38;5;28mself\u001b[39m\u001b[38;5;241m.\u001b[39mhandles \u001b[38;5;241m=\u001b[39m get_handle(\n\u001b[0;32m   1881\u001b[0m     f,\n\u001b[0;32m   1882\u001b[0m     mode,\n\u001b[0;32m   1883\u001b[0m     encoding\u001b[38;5;241m=\u001b[39m\u001b[38;5;28mself\u001b[39m\u001b[38;5;241m.\u001b[39moptions\u001b[38;5;241m.\u001b[39mget(\u001b[38;5;124m\"\u001b[39m\u001b[38;5;124mencoding\u001b[39m\u001b[38;5;124m\"\u001b[39m, \u001b[38;5;28;01mNone\u001b[39;00m),\n\u001b[0;32m   1884\u001b[0m     compression\u001b[38;5;241m=\u001b[39m\u001b[38;5;28mself\u001b[39m\u001b[38;5;241m.\u001b[39moptions\u001b[38;5;241m.\u001b[39mget(\u001b[38;5;124m\"\u001b[39m\u001b[38;5;124mcompression\u001b[39m\u001b[38;5;124m\"\u001b[39m, \u001b[38;5;28;01mNone\u001b[39;00m),\n\u001b[0;32m   1885\u001b[0m     memory_map\u001b[38;5;241m=\u001b[39m\u001b[38;5;28mself\u001b[39m\u001b[38;5;241m.\u001b[39moptions\u001b[38;5;241m.\u001b[39mget(\u001b[38;5;124m\"\u001b[39m\u001b[38;5;124mmemory_map\u001b[39m\u001b[38;5;124m\"\u001b[39m, \u001b[38;5;28;01mFalse\u001b[39;00m),\n\u001b[0;32m   1886\u001b[0m     is_text\u001b[38;5;241m=\u001b[39mis_text,\n\u001b[0;32m   1887\u001b[0m     errors\u001b[38;5;241m=\u001b[39m\u001b[38;5;28mself\u001b[39m\u001b[38;5;241m.\u001b[39moptions\u001b[38;5;241m.\u001b[39mget(\u001b[38;5;124m\"\u001b[39m\u001b[38;5;124mencoding_errors\u001b[39m\u001b[38;5;124m\"\u001b[39m, \u001b[38;5;124m\"\u001b[39m\u001b[38;5;124mstrict\u001b[39m\u001b[38;5;124m\"\u001b[39m),\n\u001b[0;32m   1888\u001b[0m     storage_options\u001b[38;5;241m=\u001b[39m\u001b[38;5;28mself\u001b[39m\u001b[38;5;241m.\u001b[39moptions\u001b[38;5;241m.\u001b[39mget(\u001b[38;5;124m\"\u001b[39m\u001b[38;5;124mstorage_options\u001b[39m\u001b[38;5;124m\"\u001b[39m, \u001b[38;5;28;01mNone\u001b[39;00m),\n\u001b[0;32m   1889\u001b[0m )\n\u001b[0;32m   1890\u001b[0m \u001b[38;5;28;01massert\u001b[39;00m \u001b[38;5;28mself\u001b[39m\u001b[38;5;241m.\u001b[39mhandles \u001b[38;5;129;01mis\u001b[39;00m \u001b[38;5;129;01mnot\u001b[39;00m \u001b[38;5;28;01mNone\u001b[39;00m\n\u001b[0;32m   1891\u001b[0m f \u001b[38;5;241m=\u001b[39m \u001b[38;5;28mself\u001b[39m\u001b[38;5;241m.\u001b[39mhandles\u001b[38;5;241m.\u001b[39mhandle\n",
      "File \u001b[1;32m~\\anaconda3\\Lib\\site-packages\\pandas\\io\\common.py:873\u001b[0m, in \u001b[0;36mget_handle\u001b[1;34m(path_or_buf, mode, encoding, compression, memory_map, is_text, errors, storage_options)\u001b[0m\n\u001b[0;32m    868\u001b[0m \u001b[38;5;28;01melif\u001b[39;00m \u001b[38;5;28misinstance\u001b[39m(handle, \u001b[38;5;28mstr\u001b[39m):\n\u001b[0;32m    869\u001b[0m     \u001b[38;5;66;03m# Check whether the filename is to be opened in binary mode.\u001b[39;00m\n\u001b[0;32m    870\u001b[0m     \u001b[38;5;66;03m# Binary mode does not support 'encoding' and 'newline'.\u001b[39;00m\n\u001b[0;32m    871\u001b[0m     \u001b[38;5;28;01mif\u001b[39;00m ioargs\u001b[38;5;241m.\u001b[39mencoding \u001b[38;5;129;01mand\u001b[39;00m \u001b[38;5;124m\"\u001b[39m\u001b[38;5;124mb\u001b[39m\u001b[38;5;124m\"\u001b[39m \u001b[38;5;129;01mnot\u001b[39;00m \u001b[38;5;129;01min\u001b[39;00m ioargs\u001b[38;5;241m.\u001b[39mmode:\n\u001b[0;32m    872\u001b[0m         \u001b[38;5;66;03m# Encoding\u001b[39;00m\n\u001b[1;32m--> 873\u001b[0m         handle \u001b[38;5;241m=\u001b[39m \u001b[38;5;28mopen\u001b[39m(\n\u001b[0;32m    874\u001b[0m             handle,\n\u001b[0;32m    875\u001b[0m             ioargs\u001b[38;5;241m.\u001b[39mmode,\n\u001b[0;32m    876\u001b[0m             encoding\u001b[38;5;241m=\u001b[39mioargs\u001b[38;5;241m.\u001b[39mencoding,\n\u001b[0;32m    877\u001b[0m             errors\u001b[38;5;241m=\u001b[39merrors,\n\u001b[0;32m    878\u001b[0m             newline\u001b[38;5;241m=\u001b[39m\u001b[38;5;124m\"\u001b[39m\u001b[38;5;124m\"\u001b[39m,\n\u001b[0;32m    879\u001b[0m         )\n\u001b[0;32m    880\u001b[0m     \u001b[38;5;28;01melse\u001b[39;00m:\n\u001b[0;32m    881\u001b[0m         \u001b[38;5;66;03m# Binary mode\u001b[39;00m\n\u001b[0;32m    882\u001b[0m         handle \u001b[38;5;241m=\u001b[39m \u001b[38;5;28mopen\u001b[39m(handle, ioargs\u001b[38;5;241m.\u001b[39mmode)\n",
      "\u001b[1;31mFileNotFoundError\u001b[0m: [Errno 2] No such file or directory: '/kaggle/input/bengaluru-house-price-data/Bengaluru_House_Data.csv'"
     ]
    }
   ],
   "source": [
    "df1=pd.read_csv(\"/kaggle/input/bengaluru-house-price-data/Bengaluru_House_Data.csv\")"
   ]
  },
  {
   "cell_type": "code",
   "execution_count": null,
   "id": "439bd5ec",
   "metadata": {
    "papermill": {
     "duration": 0.048896,
     "end_time": "2025-07-01T18:31:15.206805",
     "exception": false,
     "start_time": "2025-07-01T18:31:15.157909",
     "status": "completed"
    },
    "tags": []
   },
   "outputs": [],
   "source": [
    "df1.head()"
   ]
  },
  {
   "cell_type": "code",
   "execution_count": null,
   "id": "b07725bd",
   "metadata": {
    "papermill": {
     "duration": 0.023343,
     "end_time": "2025-07-01T18:31:15.243877",
     "exception": false,
     "start_time": "2025-07-01T18:31:15.220534",
     "status": "completed"
    },
    "tags": []
   },
   "outputs": [],
   "source": [
    "df1.shape"
   ]
  },
  {
   "cell_type": "code",
   "execution_count": null,
   "id": "ee012db0",
   "metadata": {
    "papermill": {
     "duration": 0.033825,
     "end_time": "2025-07-01T18:31:15.289800",
     "exception": false,
     "start_time": "2025-07-01T18:31:15.255975",
     "status": "completed"
    },
    "tags": []
   },
   "outputs": [],
   "source": [
    "df1.groupby('area_type')['area_type'].agg('count')"
   ]
  },
  {
   "cell_type": "code",
   "execution_count": null,
   "id": "d68a4bb3",
   "metadata": {
    "papermill": {
     "duration": 0.023557,
     "end_time": "2025-07-01T18:31:15.325431",
     "exception": false,
     "start_time": "2025-07-01T18:31:15.301874",
     "status": "completed"
    },
    "tags": []
   },
   "outputs": [],
   "source": [
    "df2=df1.drop(['area_type','society','balcony','availability'],axis='columns')"
   ]
  },
  {
   "cell_type": "code",
   "execution_count": null,
   "id": "f49d2e29",
   "metadata": {
    "papermill": {
     "duration": 0.025959,
     "end_time": "2025-07-01T18:31:15.363387",
     "exception": false,
     "start_time": "2025-07-01T18:31:15.337428",
     "status": "completed"
    },
    "tags": []
   },
   "outputs": [],
   "source": [
    "df2.head()"
   ]
  },
  {
   "cell_type": "code",
   "execution_count": null,
   "id": "29f4d361",
   "metadata": {
    "papermill": {
     "duration": 0.030031,
     "end_time": "2025-07-01T18:31:15.405641",
     "exception": false,
     "start_time": "2025-07-01T18:31:15.375610",
     "status": "completed"
    },
    "tags": []
   },
   "outputs": [],
   "source": [
    "df2.isnull()"
   ]
  },
  {
   "cell_type": "code",
   "execution_count": null,
   "id": "9467b582",
   "metadata": {
    "papermill": {
     "duration": 0.030891,
     "end_time": "2025-07-01T18:31:15.449226",
     "exception": false,
     "start_time": "2025-07-01T18:31:15.418335",
     "status": "completed"
    },
    "tags": []
   },
   "outputs": [],
   "source": [
    "df3=df2.dropna()\n",
    "df3.isnull().sum()"
   ]
  },
  {
   "cell_type": "code",
   "execution_count": null,
   "id": "934a9eb3",
   "metadata": {
    "papermill": {
     "duration": 0.019592,
     "end_time": "2025-07-01T18:31:15.480809",
     "exception": false,
     "start_time": "2025-07-01T18:31:15.461217",
     "status": "completed"
    },
    "tags": []
   },
   "outputs": [],
   "source": [
    "df3.shape"
   ]
  },
  {
   "cell_type": "code",
   "execution_count": null,
   "id": "fa1204d2",
   "metadata": {
    "papermill": {
     "duration": 0.082627,
     "end_time": "2025-07-01T18:31:15.575400",
     "exception": false,
     "start_time": "2025-07-01T18:31:15.492773",
     "status": "completed"
    },
    "tags": []
   },
   "outputs": [],
   "source": [
    "df3['size'].unique()"
   ]
  },
  {
   "cell_type": "code",
   "execution_count": null,
   "id": "2f6f320c",
   "metadata": {
    "papermill": {
     "duration": 0.029682,
     "end_time": "2025-07-01T18:31:15.617519",
     "exception": false,
     "start_time": "2025-07-01T18:31:15.587837",
     "status": "completed"
    },
    "tags": []
   },
   "outputs": [],
   "source": [
    "df3['bhk']=df3['size'].apply(lambda x: int(x.split(' ')[0]))"
   ]
  },
  {
   "cell_type": "code",
   "execution_count": null,
   "id": "9578f6ee",
   "metadata": {
    "papermill": {
     "duration": 0.025734,
     "end_time": "2025-07-01T18:31:15.655784",
     "exception": false,
     "start_time": "2025-07-01T18:31:15.630050",
     "status": "completed"
    },
    "tags": []
   },
   "outputs": [],
   "source": [
    "df3.head()"
   ]
  },
  {
   "cell_type": "code",
   "execution_count": null,
   "id": "e252be03",
   "metadata": {
    "papermill": {
     "duration": 0.023221,
     "end_time": "2025-07-01T18:31:15.691679",
     "exception": false,
     "start_time": "2025-07-01T18:31:15.668458",
     "status": "completed"
    },
    "tags": []
   },
   "outputs": [],
   "source": [
    "df3['bhk'].unique()"
   ]
  },
  {
   "cell_type": "code",
   "execution_count": null,
   "id": "b7e2ee0c",
   "metadata": {
    "papermill": {
     "duration": 0.025066,
     "end_time": "2025-07-01T18:31:15.729414",
     "exception": false,
     "start_time": "2025-07-01T18:31:15.704348",
     "status": "completed"
    },
    "tags": []
   },
   "outputs": [],
   "source": [
    "df3[df3.bhk>20]"
   ]
  },
  {
   "cell_type": "code",
   "execution_count": null,
   "id": "bda4eff5",
   "metadata": {
    "papermill": {
     "duration": 0.021033,
     "end_time": "2025-07-01T18:31:15.762988",
     "exception": false,
     "start_time": "2025-07-01T18:31:15.741955",
     "status": "completed"
    },
    "tags": []
   },
   "outputs": [],
   "source": [
    "df3.total_sqft.unique()"
   ]
  },
  {
   "cell_type": "code",
   "execution_count": null,
   "id": "1f9533ee",
   "metadata": {
    "papermill": {
     "duration": 0.019162,
     "end_time": "2025-07-01T18:31:15.794981",
     "exception": false,
     "start_time": "2025-07-01T18:31:15.775819",
     "status": "completed"
    },
    "tags": []
   },
   "outputs": [],
   "source": [
    "def is_float(x):\n",
    "    try:\n",
    "        float(x)\n",
    "    except:\n",
    "        return False\n",
    "    return True"
   ]
  },
  {
   "cell_type": "code",
   "execution_count": null,
   "id": "02ec6cd6",
   "metadata": {
    "papermill": {
     "duration": 0.031855,
     "end_time": "2025-07-01T18:31:15.839376",
     "exception": false,
     "start_time": "2025-07-01T18:31:15.807521",
     "status": "completed"
    },
    "tags": []
   },
   "outputs": [],
   "source": [
    "df3[~df3['total_sqft'].apply(is_float)].head(10)"
   ]
  },
  {
   "cell_type": "code",
   "execution_count": null,
   "id": "710c7139",
   "metadata": {
    "papermill": {
     "duration": 0.020198,
     "end_time": "2025-07-01T18:31:15.872490",
     "exception": false,
     "start_time": "2025-07-01T18:31:15.852292",
     "status": "completed"
    },
    "tags": []
   },
   "outputs": [],
   "source": [
    "def convert_sqft_to_num(x):\n",
    "    tokens=x.split(\"-\")\n",
    "    if len(tokens)==2:\n",
    "        return (float(tokens[0])+float(tokens[1]))/2\n",
    "    try:\n",
    "        return float(x)\n",
    "    except:\n",
    "        return None"
   ]
  },
  {
   "cell_type": "code",
   "execution_count": null,
   "id": "fd3bc39b",
   "metadata": {
    "papermill": {
     "duration": 0.021409,
     "end_time": "2025-07-01T18:31:15.907256",
     "exception": false,
     "start_time": "2025-07-01T18:31:15.885847",
     "status": "completed"
    },
    "tags": []
   },
   "outputs": [],
   "source": [
    "convert_sqft_to_num('2166')"
   ]
  },
  {
   "cell_type": "code",
   "execution_count": null,
   "id": "60019920",
   "metadata": {
    "papermill": {
     "duration": 0.021992,
     "end_time": "2025-07-01T18:31:15.942319",
     "exception": false,
     "start_time": "2025-07-01T18:31:15.920327",
     "status": "completed"
    },
    "tags": []
   },
   "outputs": [],
   "source": [
    "convert_sqft_to_num('2100 - 2850')"
   ]
  },
  {
   "cell_type": "code",
   "execution_count": null,
   "id": "a9d11620",
   "metadata": {
    "papermill": {
     "duration": 0.027481,
     "end_time": "2025-07-01T18:31:15.982712",
     "exception": false,
     "start_time": "2025-07-01T18:31:15.955231",
     "status": "completed"
    },
    "tags": []
   },
   "outputs": [],
   "source": [
    " df4=df3.copy()\n",
    "df4['total_sqft']=df4['total_sqft'].apply(convert_sqft_to_num)"
   ]
  },
  {
   "cell_type": "code",
   "execution_count": null,
   "id": "27fddeff",
   "metadata": {
    "papermill": {
     "duration": 0.027878,
     "end_time": "2025-07-01T18:31:16.024703",
     "exception": false,
     "start_time": "2025-07-01T18:31:15.996825",
     "status": "completed"
    },
    "tags": []
   },
   "outputs": [],
   "source": [
    "df4.head()"
   ]
  },
  {
   "cell_type": "code",
   "execution_count": null,
   "id": "bc2c6aad",
   "metadata": {
    "papermill": {
     "duration": 0.022112,
     "end_time": "2025-07-01T18:31:16.060101",
     "exception": false,
     "start_time": "2025-07-01T18:31:16.037989",
     "status": "completed"
    },
    "tags": []
   },
   "outputs": [],
   "source": [
    "df4.loc[30]"
   ]
  },
  {
   "cell_type": "markdown",
   "id": "4cfdccb3",
   "metadata": {
    "papermill": {
     "duration": 0.012762,
     "end_time": "2025-07-01T18:31:16.086287",
     "exception": false,
     "start_time": "2025-07-01T18:31:16.073525",
     "status": "completed"
    },
    "tags": []
   },
   "source": [
    "feature Engineering"
   ]
  },
  {
   "cell_type": "code",
   "execution_count": null,
   "id": "6b2923cb",
   "metadata": {
    "papermill": {
     "duration": 0.033034,
     "end_time": "2025-07-01T18:31:16.132569",
     "exception": false,
     "start_time": "2025-07-01T18:31:16.099535",
     "status": "completed"
    },
    "tags": []
   },
   "outputs": [],
   "source": [
    "df5=df4.copy()\n",
    "df5['price_per_sqft']=df5['price']*100000/df5['total_sqft']"
   ]
  },
  {
   "cell_type": "code",
   "execution_count": null,
   "id": "942d2857",
   "metadata": {
    "papermill": {
     "duration": 0.027051,
     "end_time": "2025-07-01T18:31:16.172886",
     "exception": false,
     "start_time": "2025-07-01T18:31:16.145835",
     "status": "completed"
    },
    "tags": []
   },
   "outputs": [],
   "source": [
    "df5.head()"
   ]
  },
  {
   "cell_type": "code",
   "execution_count": null,
   "id": "f23fa6c1",
   "metadata": {
    "papermill": {
     "duration": 0.021902,
     "end_time": "2025-07-01T18:31:16.208674",
     "exception": false,
     "start_time": "2025-07-01T18:31:16.186772",
     "status": "completed"
    },
    "tags": []
   },
   "outputs": [],
   "source": [
    "df5.location.unique()"
   ]
  },
  {
   "cell_type": "code",
   "execution_count": null,
   "id": "c7d01655",
   "metadata": {
    "papermill": {
     "duration": 0.02321,
     "end_time": "2025-07-01T18:31:16.245286",
     "exception": false,
     "start_time": "2025-07-01T18:31:16.222076",
     "status": "completed"
    },
    "tags": []
   },
   "outputs": [],
   "source": [
    "len(df5.location.unique())"
   ]
  },
  {
   "cell_type": "code",
   "execution_count": null,
   "id": "f95bfd12",
   "metadata": {
    "papermill": {
     "duration": 0.031512,
     "end_time": "2025-07-01T18:31:16.290598",
     "exception": false,
     "start_time": "2025-07-01T18:31:16.259086",
     "status": "completed"
    },
    "tags": []
   },
   "outputs": [],
   "source": [
    "df5.location=df5.location.apply(lambda x:x.strip())\n",
    "location_stats=df5.groupby('location')['location'].agg('count').sort_values(ascending=False)\n",
    "location_stats"
   ]
  },
  {
   "cell_type": "code",
   "execution_count": null,
   "id": "506a2709",
   "metadata": {
    "papermill": {
     "duration": 0.022247,
     "end_time": "2025-07-01T18:31:16.326615",
     "exception": false,
     "start_time": "2025-07-01T18:31:16.304368",
     "status": "completed"
    },
    "tags": []
   },
   "outputs": [],
   "source": [
    "len(location_stats[location_stats<=10])"
   ]
  },
  {
   "cell_type": "code",
   "execution_count": null,
   "id": "2d546538",
   "metadata": {
    "papermill": {
     "duration": 0.024018,
     "end_time": "2025-07-01T18:31:16.364625",
     "exception": false,
     "start_time": "2025-07-01T18:31:16.340607",
     "status": "completed"
    },
    "tags": []
   },
   "outputs": [],
   "source": [
    "location_stats_less_than_10=location_stats[location_stats<=10]\n",
    "location_stats_less_than_10"
   ]
  },
  {
   "cell_type": "code",
   "execution_count": null,
   "id": "1e1155da",
   "metadata": {
    "papermill": {
     "duration": 0.022162,
     "end_time": "2025-07-01T18:31:16.400734",
     "exception": false,
     "start_time": "2025-07-01T18:31:16.378572",
     "status": "completed"
    },
    "tags": []
   },
   "outputs": [],
   "source": [
    "len(df5.location.unique())"
   ]
  },
  {
   "cell_type": "code",
   "execution_count": null,
   "id": "b24f441c",
   "metadata": {
    "papermill": {
     "duration": 0.04681,
     "end_time": "2025-07-01T18:31:16.461345",
     "exception": false,
     "start_time": "2025-07-01T18:31:16.414535",
     "status": "completed"
    },
    "tags": []
   },
   "outputs": [],
   "source": [
    "df5.location=df5.location.apply(lambda x: 'other' if x in location_stats_less_than_10 else x)\n",
    "len(df5.location.unique())"
   ]
  },
  {
   "cell_type": "code",
   "execution_count": null,
   "id": "eebfcf28",
   "metadata": {
    "papermill": {
     "duration": 0.029283,
     "end_time": "2025-07-01T18:31:16.504620",
     "exception": false,
     "start_time": "2025-07-01T18:31:16.475337",
     "status": "completed"
    },
    "tags": []
   },
   "outputs": [],
   "source": [
    "df5.head(10)"
   ]
  },
  {
   "cell_type": "code",
   "execution_count": null,
   "id": "d0fde298",
   "metadata": {
    "papermill": {
     "duration": 0.031125,
     "end_time": "2025-07-01T18:31:16.549849",
     "exception": false,
     "start_time": "2025-07-01T18:31:16.518724",
     "status": "completed"
    },
    "tags": []
   },
   "outputs": [],
   "source": [
    "df5[df5.total_sqft/df5.bhk<300].head()"
   ]
  },
  {
   "cell_type": "code",
   "execution_count": null,
   "id": "9471a06f",
   "metadata": {
    "papermill": {
     "duration": 0.021608,
     "end_time": "2025-07-01T18:31:16.586230",
     "exception": false,
     "start_time": "2025-07-01T18:31:16.564622",
     "status": "completed"
    },
    "tags": []
   },
   "outputs": [],
   "source": [
    "df5.shape"
   ]
  },
  {
   "cell_type": "markdown",
   "id": "2a9affdc",
   "metadata": {
    "papermill": {
     "duration": 0.014389,
     "end_time": "2025-07-01T18:31:16.615393",
     "exception": false,
     "start_time": "2025-07-01T18:31:16.601004",
     "status": "completed"
    },
    "tags": []
   },
   "source": [
    "# Outliers removing"
   ]
  },
  {
   "cell_type": "code",
   "execution_count": null,
   "id": "2ca5bc89",
   "metadata": {
    "papermill": {
     "duration": 0.024369,
     "end_time": "2025-07-01T18:31:16.653966",
     "exception": false,
     "start_time": "2025-07-01T18:31:16.629597",
     "status": "completed"
    },
    "tags": []
   },
   "outputs": [],
   "source": [
    "df6=df5[~(df5.total_sqft/df5.bhk<300)]\n",
    "df6.shape"
   ]
  },
  {
   "cell_type": "code",
   "execution_count": null,
   "id": "a686294d",
   "metadata": {
    "papermill": {
     "duration": 0.030775,
     "end_time": "2025-07-01T18:31:16.699198",
     "exception": false,
     "start_time": "2025-07-01T18:31:16.668423",
     "status": "completed"
    },
    "tags": []
   },
   "outputs": [],
   "source": [
    "df6.price_per_sqft.describe()"
   ]
  },
  {
   "cell_type": "code",
   "execution_count": 5,
   "id": "40b38bc7",
   "metadata": {
    "papermill": {
     "duration": 0.022752,
     "end_time": "2025-07-01T18:31:16.736664",
     "exception": false,
     "start_time": "2025-07-01T18:31:16.713912",
     "status": "completed"
    },
    "tags": []
   },
   "outputs": [],
   "source": [
    "def remove_pps_outliers(df):\n",
    "    df_out=pd.DataFrame()\n",
    "    for key,subdf in df.groupby('location'):\n",
    "        m=np.mean(subdf.price_per_sqft)\n",
    "        st=np.std(subdf.price_per_sqft)\n",
    "        reduced_df=subdf[(subdf.price_per_sqft>(m-st)) & (subdf.price_per_sqft<=(m+st))]\n",
    "        df_out=pd.concat([df_out,reduced_df],ignore_index=True)\n",
    "    return df_out"
   ]
  },
  {
   "cell_type": "code",
   "execution_count": 6,
   "id": "5c3338d0",
   "metadata": {
    "papermill": {
     "duration": 0.254204,
     "end_time": "2025-07-01T18:31:17.005890",
     "exception": false,
     "start_time": "2025-07-01T18:31:16.751686",
     "status": "completed"
    },
    "tags": []
   },
   "outputs": [
    {
     "ename": "NameError",
     "evalue": "name 'df6' is not defined",
     "output_type": "error",
     "traceback": [
      "\u001b[1;31m---------------------------------------------------------------------------\u001b[0m",
      "\u001b[1;31mNameError\u001b[0m                                 Traceback (most recent call last)",
      "Cell \u001b[1;32mIn[6], line 1\u001b[0m\n\u001b[1;32m----> 1\u001b[0m df7\u001b[38;5;241m=\u001b[39mremove_pps_outliers(df6)\n\u001b[0;32m      2\u001b[0m df7\u001b[38;5;241m.\u001b[39mshape\n",
      "\u001b[1;31mNameError\u001b[0m: name 'df6' is not defined"
     ]
    }
   ],
   "source": [
    "df7=remove_pps_outliers(df6)\n",
    "df7.shape"
   ]
  },
  {
   "cell_type": "code",
   "execution_count": 7,
   "id": "f08e0f4a",
   "metadata": {
    "papermill": {
     "duration": 0.023247,
     "end_time": "2025-07-01T18:31:17.045517",
     "exception": false,
     "start_time": "2025-07-01T18:31:17.022270",
     "status": "completed"
    },
    "tags": []
   },
   "outputs": [],
   "source": [
    "def plot_scatter_chart(df,location):\n",
    "    bhk2=df[(df.location==location) & (df.bhk==2)]\n",
    "    bhk3=df[(df.location==location) & (df.bhk==3)]\n",
    "    matplotlib.rcParams['figure.figsize']=(15,10)\n",
    "    plt.scatter(bhk2.total_sqft,bhk2.price,color='blue',label='2 BHK',s=50)\n",
    "    plt.scatter(bhk3.total_sqft,bhk3.price,marker='+',color='green',label='3 BHK',s=50)\n",
    "    plt.xlabel(\"Total Square feet area\")\n",
    "    plt.xlabel(\"Price Per Square Feet\")\n",
    "    plt.title(location)\n",
    "    plt.legend()"
   ]
  },
  {
   "cell_type": "code",
   "execution_count": 8,
   "id": "4d5eb8fd",
   "metadata": {
    "papermill": {
     "duration": 0.487593,
     "end_time": "2025-07-01T18:31:17.547788",
     "exception": false,
     "start_time": "2025-07-01T18:31:17.060195",
     "status": "completed"
    },
    "tags": []
   },
   "outputs": [
    {
     "ename": "NameError",
     "evalue": "name 'df7' is not defined",
     "output_type": "error",
     "traceback": [
      "\u001b[1;31m---------------------------------------------------------------------------\u001b[0m",
      "\u001b[1;31mNameError\u001b[0m                                 Traceback (most recent call last)",
      "Cell \u001b[1;32mIn[8], line 1\u001b[0m\n\u001b[1;32m----> 1\u001b[0m plot_scatter_chart(df7,\u001b[38;5;124m\"\u001b[39m\u001b[38;5;124mRajaji Nagar\u001b[39m\u001b[38;5;124m\"\u001b[39m)\n",
      "\u001b[1;31mNameError\u001b[0m: name 'df7' is not defined"
     ]
    }
   ],
   "source": [
    "plot_scatter_chart(df7,\"Rajaji Nagar\")"
   ]
  },
  {
   "cell_type": "code",
   "execution_count": 9,
   "id": "9bc3b7e3",
   "metadata": {
    "papermill": {
     "duration": 0.29878,
     "end_time": "2025-07-01T18:31:17.862392",
     "exception": false,
     "start_time": "2025-07-01T18:31:17.563612",
     "status": "completed"
    },
    "tags": []
   },
   "outputs": [
    {
     "ename": "NameError",
     "evalue": "name 'df7' is not defined",
     "output_type": "error",
     "traceback": [
      "\u001b[1;31m---------------------------------------------------------------------------\u001b[0m",
      "\u001b[1;31mNameError\u001b[0m                                 Traceback (most recent call last)",
      "Cell \u001b[1;32mIn[9], line 1\u001b[0m\n\u001b[1;32m----> 1\u001b[0m plot_scatter_chart(df7,\u001b[38;5;124m\"\u001b[39m\u001b[38;5;124mHebbal\u001b[39m\u001b[38;5;124m\"\u001b[39m)\n",
      "\u001b[1;31mNameError\u001b[0m: name 'df7' is not defined"
     ]
    }
   ],
   "source": [
    "plot_scatter_chart(df7,\"Hebbal\")"
   ]
  },
  {
   "cell_type": "code",
   "execution_count": 10,
   "id": "7b873c4c",
   "metadata": {
    "papermill": {
     "duration": 0.028047,
     "end_time": "2025-07-01T18:31:17.906604",
     "exception": false,
     "start_time": "2025-07-01T18:31:17.878557",
     "status": "completed"
    },
    "tags": []
   },
   "outputs": [],
   "source": [
    "def remove_bhk_outliers (df):\n",
    "    exclude_indices = np.array([])\n",
    "    for location, location_df in df.groupby('location'):\n",
    "        bhk_stats = {}\n",
    "        for bhk, bhk_df in location_df.groupby('bhk'):\n",
    "            bhk_stats[bhk] = {\n",
    "                'mean': np.mean(bhk_df.price_per_sqft),\n",
    "                'std': np.std(bhk_df.price_per_sqft),\n",
    "                'count': bhk_df.shape[0]\n",
    "            }\n",
    "        for bhk, bhk_df in location_df.groupby('bhk'):\n",
    "            stats=bhk_stats.get(bhk-1)\n",
    "            if stats and stats ['count']>5:\n",
    "                exclude_indices = np.append(exclude_indices, bhk_df [bhk_df.price_per_sqft<(stats['mean'])].index.values)\n",
    "    return df.drop(exclude_indices, axis='index')"
   ]
  },
  {
   "cell_type": "code",
   "execution_count": 11,
   "id": "5cd2a123",
   "metadata": {
    "papermill": {
     "duration": 0.461815,
     "end_time": "2025-07-01T18:31:18.386062",
     "exception": false,
     "start_time": "2025-07-01T18:31:17.924247",
     "status": "completed"
    },
    "tags": []
   },
   "outputs": [
    {
     "ename": "NameError",
     "evalue": "name 'df7' is not defined",
     "output_type": "error",
     "traceback": [
      "\u001b[1;31m---------------------------------------------------------------------------\u001b[0m",
      "\u001b[1;31mNameError\u001b[0m                                 Traceback (most recent call last)",
      "Cell \u001b[1;32mIn[11], line 1\u001b[0m\n\u001b[1;32m----> 1\u001b[0m df8\u001b[38;5;241m=\u001b[39mremove_bhk_outliers(df7)\n",
      "\u001b[1;31mNameError\u001b[0m: name 'df7' is not defined"
     ]
    }
   ],
   "source": [
    "df8=remove_bhk_outliers(df7)"
   ]
  },
  {
   "cell_type": "code",
   "execution_count": 12,
   "id": "c2efb85f",
   "metadata": {
    "papermill": {
     "duration": 0.024602,
     "end_time": "2025-07-01T18:31:18.426815",
     "exception": false,
     "start_time": "2025-07-01T18:31:18.402213",
     "status": "completed"
    },
    "tags": []
   },
   "outputs": [
    {
     "ename": "NameError",
     "evalue": "name 'df8' is not defined",
     "output_type": "error",
     "traceback": [
      "\u001b[1;31m---------------------------------------------------------------------------\u001b[0m",
      "\u001b[1;31mNameError\u001b[0m                                 Traceback (most recent call last)",
      "Cell \u001b[1;32mIn[12], line 1\u001b[0m\n\u001b[1;32m----> 1\u001b[0m df8\u001b[38;5;241m.\u001b[39mshape\n",
      "\u001b[1;31mNameError\u001b[0m: name 'df8' is not defined"
     ]
    }
   ],
   "source": [
    "df8.shape"
   ]
  },
  {
   "cell_type": "code",
   "execution_count": 13,
   "id": "65ff5892",
   "metadata": {
    "papermill": {
     "duration": 0.30212,
     "end_time": "2025-07-01T18:31:18.745513",
     "exception": false,
     "start_time": "2025-07-01T18:31:18.443393",
     "status": "completed"
    },
    "tags": []
   },
   "outputs": [
    {
     "ename": "NameError",
     "evalue": "name 'df8' is not defined",
     "output_type": "error",
     "traceback": [
      "\u001b[1;31m---------------------------------------------------------------------------\u001b[0m",
      "\u001b[1;31mNameError\u001b[0m                                 Traceback (most recent call last)",
      "Cell \u001b[1;32mIn[13], line 1\u001b[0m\n\u001b[1;32m----> 1\u001b[0m plot_scatter_chart(df8,\u001b[38;5;124m\"\u001b[39m\u001b[38;5;124mHebbal\u001b[39m\u001b[38;5;124m\"\u001b[39m)\n",
      "\u001b[1;31mNameError\u001b[0m: name 'df8' is not defined"
     ]
    }
   ],
   "source": [
    "plot_scatter_chart(df8,\"Hebbal\")"
   ]
  },
  {
   "cell_type": "code",
   "execution_count": 14,
   "id": "177e714f",
   "metadata": {
    "papermill": {
     "duration": 0.255674,
     "end_time": "2025-07-01T18:31:19.017866",
     "exception": false,
     "start_time": "2025-07-01T18:31:18.762192",
     "status": "completed"
    },
    "tags": []
   },
   "outputs": [
    {
     "ename": "NameError",
     "evalue": "name 'df8' is not defined",
     "output_type": "error",
     "traceback": [
      "\u001b[1;31m---------------------------------------------------------------------------\u001b[0m",
      "\u001b[1;31mNameError\u001b[0m                                 Traceback (most recent call last)",
      "Cell \u001b[1;32mIn[14], line 3\u001b[0m\n\u001b[0;32m      1\u001b[0m \u001b[38;5;28;01mimport\u001b[39;00m\u001b[38;5;250m \u001b[39m\u001b[38;5;21;01mmatplotlib\u001b[39;00m\n\u001b[0;32m      2\u001b[0m matplotlib\u001b[38;5;241m.\u001b[39mrcParams[\u001b[38;5;124m\"\u001b[39m\u001b[38;5;124mfigure.figsize\u001b[39m\u001b[38;5;124m\"\u001b[39m]\u001b[38;5;241m=\u001b[39m(\u001b[38;5;241m20\u001b[39m,\u001b[38;5;241m10\u001b[39m)\n\u001b[1;32m----> 3\u001b[0m plt\u001b[38;5;241m.\u001b[39mhist(df8\u001b[38;5;241m.\u001b[39mprice_per_sqft,rwidth\u001b[38;5;241m=\u001b[39m\u001b[38;5;241m0.8\u001b[39m)\n\u001b[0;32m      4\u001b[0m plt\u001b[38;5;241m.\u001b[39mxlabel(\u001b[38;5;124m\"\u001b[39m\u001b[38;5;124mPrice per Square feet\u001b[39m\u001b[38;5;124m\"\u001b[39m)\n\u001b[0;32m      5\u001b[0m plt\u001b[38;5;241m.\u001b[39mylabel(\u001b[38;5;124m\"\u001b[39m\u001b[38;5;124mCount\u001b[39m\u001b[38;5;124m\"\u001b[39m)\n",
      "\u001b[1;31mNameError\u001b[0m: name 'df8' is not defined"
     ]
    }
   ],
   "source": [
    "import matplotlib\n",
    "matplotlib.rcParams[\"figure.figsize\"]=(20,10)\n",
    "plt.hist(df8.price_per_sqft,rwidth=0.8)\n",
    "plt.xlabel(\"Price per Square feet\")\n",
    "plt.ylabel(\"Count\")"
   ]
  },
  {
   "cell_type": "code",
   "execution_count": 15,
   "id": "2fa87869",
   "metadata": {
    "papermill": {
     "duration": 0.025344,
     "end_time": "2025-07-01T18:31:19.060353",
     "exception": false,
     "start_time": "2025-07-01T18:31:19.035009",
     "status": "completed"
    },
    "tags": []
   },
   "outputs": [
    {
     "ename": "NameError",
     "evalue": "name 'df8' is not defined",
     "output_type": "error",
     "traceback": [
      "\u001b[1;31m---------------------------------------------------------------------------\u001b[0m",
      "\u001b[1;31mNameError\u001b[0m                                 Traceback (most recent call last)",
      "Cell \u001b[1;32mIn[15], line 1\u001b[0m\n\u001b[1;32m----> 1\u001b[0m df8\u001b[38;5;241m.\u001b[39mbath\u001b[38;5;241m.\u001b[39munique()\n",
      "\u001b[1;31mNameError\u001b[0m: name 'df8' is not defined"
     ]
    }
   ],
   "source": [
    "df8.bath.unique()"
   ]
  },
  {
   "cell_type": "code",
   "execution_count": 16,
   "id": "72992091",
   "metadata": {
    "papermill": {
     "duration": 0.030602,
     "end_time": "2025-07-01T18:31:19.108045",
     "exception": false,
     "start_time": "2025-07-01T18:31:19.077443",
     "status": "completed"
    },
    "tags": []
   },
   "outputs": [
    {
     "ename": "NameError",
     "evalue": "name 'df8' is not defined",
     "output_type": "error",
     "traceback": [
      "\u001b[1;31m---------------------------------------------------------------------------\u001b[0m",
      "\u001b[1;31mNameError\u001b[0m                                 Traceback (most recent call last)",
      "Cell \u001b[1;32mIn[16], line 1\u001b[0m\n\u001b[1;32m----> 1\u001b[0m df8[df8\u001b[38;5;241m.\u001b[39mbath\u001b[38;5;241m>\u001b[39m\u001b[38;5;241m10\u001b[39m]\n",
      "\u001b[1;31mNameError\u001b[0m: name 'df8' is not defined"
     ]
    }
   ],
   "source": [
    "df8[df8.bath>10]"
   ]
  },
  {
   "cell_type": "code",
   "execution_count": 17,
   "id": "c125e047",
   "metadata": {
    "papermill": {
     "duration": 0.257821,
     "end_time": "2025-07-01T18:31:19.383101",
     "exception": false,
     "start_time": "2025-07-01T18:31:19.125280",
     "status": "completed"
    },
    "tags": []
   },
   "outputs": [
    {
     "ename": "NameError",
     "evalue": "name 'df8' is not defined",
     "output_type": "error",
     "traceback": [
      "\u001b[1;31m---------------------------------------------------------------------------\u001b[0m",
      "\u001b[1;31mNameError\u001b[0m                                 Traceback (most recent call last)",
      "Cell \u001b[1;32mIn[17], line 1\u001b[0m\n\u001b[1;32m----> 1\u001b[0m plt\u001b[38;5;241m.\u001b[39mhist(df8\u001b[38;5;241m.\u001b[39mbath,rwidth\u001b[38;5;241m=\u001b[39m\u001b[38;5;241m0.8\u001b[39m)\n\u001b[0;32m      2\u001b[0m plt\u001b[38;5;241m.\u001b[39mxlabel(\u001b[38;5;124m\"\u001b[39m\u001b[38;5;124mNumber of Bathrooms\u001b[39m\u001b[38;5;124m\"\u001b[39m)\n\u001b[0;32m      3\u001b[0m plt\u001b[38;5;241m.\u001b[39mylabel(\u001b[38;5;124m\"\u001b[39m\u001b[38;5;124mCOunt\u001b[39m\u001b[38;5;124m\"\u001b[39m)\n",
      "\u001b[1;31mNameError\u001b[0m: name 'df8' is not defined"
     ]
    }
   ],
   "source": [
    "plt.hist(df8.bath,rwidth=0.8)\n",
    "plt.xlabel(\"Number of Bathrooms\")\n",
    "plt.ylabel(\"COunt\")"
   ]
  },
  {
   "cell_type": "code",
   "execution_count": 18,
   "id": "204d8ef1",
   "metadata": {
    "papermill": {
     "duration": 0.031527,
     "end_time": "2025-07-01T18:31:19.434517",
     "exception": false,
     "start_time": "2025-07-01T18:31:19.402990",
     "status": "completed"
    },
    "tags": []
   },
   "outputs": [
    {
     "ename": "NameError",
     "evalue": "name 'df8' is not defined",
     "output_type": "error",
     "traceback": [
      "\u001b[1;31m---------------------------------------------------------------------------\u001b[0m",
      "\u001b[1;31mNameError\u001b[0m                                 Traceback (most recent call last)",
      "Cell \u001b[1;32mIn[18], line 1\u001b[0m\n\u001b[1;32m----> 1\u001b[0m df8[df8\u001b[38;5;241m.\u001b[39mbath\u001b[38;5;241m>\u001b[39mdf8\u001b[38;5;241m.\u001b[39mbhk\u001b[38;5;241m+\u001b[39m\u001b[38;5;241m2\u001b[39m]\n",
      "\u001b[1;31mNameError\u001b[0m: name 'df8' is not defined"
     ]
    }
   ],
   "source": [
    "df8[df8.bath>df8.bhk+2]"
   ]
  },
  {
   "cell_type": "code",
   "execution_count": 19,
   "id": "cfed9b44",
   "metadata": {
    "papermill": {
     "duration": 0.027805,
     "end_time": "2025-07-01T18:31:19.481329",
     "exception": false,
     "start_time": "2025-07-01T18:31:19.453524",
     "status": "completed"
    },
    "tags": []
   },
   "outputs": [
    {
     "ename": "NameError",
     "evalue": "name 'df8' is not defined",
     "output_type": "error",
     "traceback": [
      "\u001b[1;31m---------------------------------------------------------------------------\u001b[0m",
      "\u001b[1;31mNameError\u001b[0m                                 Traceback (most recent call last)",
      "Cell \u001b[1;32mIn[19], line 1\u001b[0m\n\u001b[1;32m----> 1\u001b[0m df9\u001b[38;5;241m=\u001b[39mdf8[df8\u001b[38;5;241m.\u001b[39mbath\u001b[38;5;241m<\u001b[39mdf8\u001b[38;5;241m.\u001b[39mbhk\u001b[38;5;241m+\u001b[39m\u001b[38;5;241m2\u001b[39m]\n\u001b[0;32m      2\u001b[0m df9\u001b[38;5;241m.\u001b[39mshape\n",
      "\u001b[1;31mNameError\u001b[0m: name 'df8' is not defined"
     ]
    }
   ],
   "source": [
    "df9=df8[df8.bath<df8.bhk+2]\n",
    "df9.shape"
   ]
  },
  {
   "cell_type": "code",
   "execution_count": 20,
   "id": "82b2999c",
   "metadata": {
    "papermill": {
     "duration": 0.030664,
     "end_time": "2025-07-01T18:31:19.529750",
     "exception": false,
     "start_time": "2025-07-01T18:31:19.499086",
     "status": "completed"
    },
    "tags": []
   },
   "outputs": [
    {
     "ename": "NameError",
     "evalue": "name 'df9' is not defined",
     "output_type": "error",
     "traceback": [
      "\u001b[1;31m---------------------------------------------------------------------------\u001b[0m",
      "\u001b[1;31mNameError\u001b[0m                                 Traceback (most recent call last)",
      "Cell \u001b[1;32mIn[20], line 1\u001b[0m\n\u001b[1;32m----> 1\u001b[0m df10\u001b[38;5;241m=\u001b[39mdf9\u001b[38;5;241m.\u001b[39mdrop([\u001b[38;5;124m'\u001b[39m\u001b[38;5;124msize\u001b[39m\u001b[38;5;124m'\u001b[39m,\u001b[38;5;124m'\u001b[39m\u001b[38;5;124mprice_per_sqft\u001b[39m\u001b[38;5;124m'\u001b[39m],axis\u001b[38;5;241m=\u001b[39m\u001b[38;5;124m'\u001b[39m\u001b[38;5;124mcolumns\u001b[39m\u001b[38;5;124m'\u001b[39m)\n\u001b[0;32m      2\u001b[0m df10\u001b[38;5;241m.\u001b[39mhead(\u001b[38;5;241m3\u001b[39m)\n",
      "\u001b[1;31mNameError\u001b[0m: name 'df9' is not defined"
     ]
    }
   ],
   "source": [
    "df10=df9.drop(['size','price_per_sqft'],axis='columns')\n",
    "df10.head(3)"
   ]
  },
  {
   "cell_type": "code",
   "execution_count": 21,
   "id": "421e49fd",
   "metadata": {
    "papermill": {
     "duration": 0.026232,
     "end_time": "2025-07-01T18:31:19.573692",
     "exception": false,
     "start_time": "2025-07-01T18:31:19.547460",
     "status": "completed"
    },
    "tags": []
   },
   "outputs": [
    {
     "ename": "NameError",
     "evalue": "name 'df10' is not defined",
     "output_type": "error",
     "traceback": [
      "\u001b[1;31m---------------------------------------------------------------------------\u001b[0m",
      "\u001b[1;31mNameError\u001b[0m                                 Traceback (most recent call last)",
      "Cell \u001b[1;32mIn[21], line 1\u001b[0m\n\u001b[1;32m----> 1\u001b[0m dummies\u001b[38;5;241m=\u001b[39mpd\u001b[38;5;241m.\u001b[39mget_dummies(df10\u001b[38;5;241m.\u001b[39mlocation)\n",
      "\u001b[1;31mNameError\u001b[0m: name 'df10' is not defined"
     ]
    }
   ],
   "source": [
    "dummies=pd.get_dummies(df10.location)"
   ]
  },
  {
   "cell_type": "code",
   "execution_count": 22,
   "id": "bd365a91",
   "metadata": {
    "papermill": {
     "duration": 0.038456,
     "end_time": "2025-07-01T18:31:19.630012",
     "exception": false,
     "start_time": "2025-07-01T18:31:19.591556",
     "status": "completed"
    },
    "tags": []
   },
   "outputs": [
    {
     "ename": "NameError",
     "evalue": "name 'dummies' is not defined",
     "output_type": "error",
     "traceback": [
      "\u001b[1;31m---------------------------------------------------------------------------\u001b[0m",
      "\u001b[1;31mNameError\u001b[0m                                 Traceback (most recent call last)",
      "Cell \u001b[1;32mIn[22], line 1\u001b[0m\n\u001b[1;32m----> 1\u001b[0m dummies\u001b[38;5;241m.\u001b[39mhead()\n",
      "\u001b[1;31mNameError\u001b[0m: name 'dummies' is not defined"
     ]
    }
   ],
   "source": [
    " dummies.head()"
   ]
  },
  {
   "cell_type": "code",
   "execution_count": 23,
   "id": "b4d1a9a4",
   "metadata": {
    "papermill": {
     "duration": 0.028498,
     "end_time": "2025-07-01T18:31:19.676621",
     "exception": false,
     "start_time": "2025-07-01T18:31:19.648123",
     "status": "completed"
    },
    "tags": []
   },
   "outputs": [
    {
     "ename": "NameError",
     "evalue": "name 'df10' is not defined",
     "output_type": "error",
     "traceback": [
      "\u001b[1;31m---------------------------------------------------------------------------\u001b[0m",
      "\u001b[1;31mNameError\u001b[0m                                 Traceback (most recent call last)",
      "Cell \u001b[1;32mIn[23], line 1\u001b[0m\n\u001b[1;32m----> 1\u001b[0m df11\u001b[38;5;241m=\u001b[39mpd\u001b[38;5;241m.\u001b[39mconcat([df10,dummies\u001b[38;5;241m.\u001b[39mdrop(\u001b[38;5;124m'\u001b[39m\u001b[38;5;124mother\u001b[39m\u001b[38;5;124m'\u001b[39m,axis\u001b[38;5;241m=\u001b[39m\u001b[38;5;124m'\u001b[39m\u001b[38;5;124mcolumns\u001b[39m\u001b[38;5;124m'\u001b[39m)],axis\u001b[38;5;241m=\u001b[39m\u001b[38;5;124m'\u001b[39m\u001b[38;5;124mcolumns\u001b[39m\u001b[38;5;124m'\u001b[39m)\n",
      "\u001b[1;31mNameError\u001b[0m: name 'df10' is not defined"
     ]
    }
   ],
   "source": [
    "df11=pd.concat([df10,dummies.drop('other',axis='columns')],axis='columns')"
   ]
  },
  {
   "cell_type": "code",
   "execution_count": 24,
   "id": "c2882fb2",
   "metadata": {
    "papermill": {
     "duration": 0.041605,
     "end_time": "2025-07-01T18:31:19.736512",
     "exception": false,
     "start_time": "2025-07-01T18:31:19.694907",
     "status": "completed"
    },
    "tags": []
   },
   "outputs": [
    {
     "ename": "NameError",
     "evalue": "name 'df11' is not defined",
     "output_type": "error",
     "traceback": [
      "\u001b[1;31m---------------------------------------------------------------------------\u001b[0m",
      "\u001b[1;31mNameError\u001b[0m                                 Traceback (most recent call last)",
      "Cell \u001b[1;32mIn[24], line 1\u001b[0m\n\u001b[1;32m----> 1\u001b[0m df11\u001b[38;5;241m.\u001b[39mhead(\u001b[38;5;241m4\u001b[39m)\n",
      "\u001b[1;31mNameError\u001b[0m: name 'df11' is not defined"
     ]
    }
   ],
   "source": [
    "df11.head(4)"
   ]
  },
  {
   "cell_type": "code",
   "execution_count": 25,
   "id": "8a11379b",
   "metadata": {
    "papermill": {
     "duration": 0.027349,
     "end_time": "2025-07-01T18:31:19.782517",
     "exception": false,
     "start_time": "2025-07-01T18:31:19.755168",
     "status": "completed"
    },
    "tags": []
   },
   "outputs": [
    {
     "ename": "NameError",
     "evalue": "name 'df11' is not defined",
     "output_type": "error",
     "traceback": [
      "\u001b[1;31m---------------------------------------------------------------------------\u001b[0m",
      "\u001b[1;31mNameError\u001b[0m                                 Traceback (most recent call last)",
      "Cell \u001b[1;32mIn[25], line 1\u001b[0m\n\u001b[1;32m----> 1\u001b[0m df12\u001b[38;5;241m=\u001b[39mdf11\u001b[38;5;241m.\u001b[39mdrop(\u001b[38;5;124m\"\u001b[39m\u001b[38;5;124mlocation\u001b[39m\u001b[38;5;124m\"\u001b[39m,axis\u001b[38;5;241m=\u001b[39m\u001b[38;5;124m'\u001b[39m\u001b[38;5;124mcolumns\u001b[39m\u001b[38;5;124m'\u001b[39m)\n",
      "\u001b[1;31mNameError\u001b[0m: name 'df11' is not defined"
     ]
    }
   ],
   "source": [
    "df12=df11.drop(\"location\",axis='columns')"
   ]
  },
  {
   "cell_type": "code",
   "execution_count": 26,
   "id": "a91dda6e",
   "metadata": {
    "papermill": {
     "duration": 0.040417,
     "end_time": "2025-07-01T18:31:19.841208",
     "exception": false,
     "start_time": "2025-07-01T18:31:19.800791",
     "status": "completed"
    },
    "tags": []
   },
   "outputs": [
    {
     "ename": "NameError",
     "evalue": "name 'df12' is not defined",
     "output_type": "error",
     "traceback": [
      "\u001b[1;31m---------------------------------------------------------------------------\u001b[0m",
      "\u001b[1;31mNameError\u001b[0m                                 Traceback (most recent call last)",
      "Cell \u001b[1;32mIn[26], line 1\u001b[0m\n\u001b[1;32m----> 1\u001b[0m df12\u001b[38;5;241m.\u001b[39mhead()\n",
      "\u001b[1;31mNameError\u001b[0m: name 'df12' is not defined"
     ]
    }
   ],
   "source": [
    "df12.head()"
   ]
  },
  {
   "cell_type": "code",
   "execution_count": 27,
   "id": "61bd1ba4",
   "metadata": {
    "papermill": {
     "duration": 0.026386,
     "end_time": "2025-07-01T18:31:19.886393",
     "exception": false,
     "start_time": "2025-07-01T18:31:19.860007",
     "status": "completed"
    },
    "tags": []
   },
   "outputs": [
    {
     "ename": "NameError",
     "evalue": "name 'df12' is not defined",
     "output_type": "error",
     "traceback": [
      "\u001b[1;31m---------------------------------------------------------------------------\u001b[0m",
      "\u001b[1;31mNameError\u001b[0m                                 Traceback (most recent call last)",
      "Cell \u001b[1;32mIn[27], line 1\u001b[0m\n\u001b[1;32m----> 1\u001b[0m df12\u001b[38;5;241m.\u001b[39mshape\n",
      "\u001b[1;31mNameError\u001b[0m: name 'df12' is not defined"
     ]
    }
   ],
   "source": [
    "df12.shape"
   ]
  },
  {
   "cell_type": "code",
   "execution_count": 28,
   "id": "0740e808",
   "metadata": {
    "papermill": {
     "duration": 0.029059,
     "end_time": "2025-07-01T18:31:19.934341",
     "exception": false,
     "start_time": "2025-07-01T18:31:19.905282",
     "status": "completed"
    },
    "tags": []
   },
   "outputs": [
    {
     "ename": "NameError",
     "evalue": "name 'df12' is not defined",
     "output_type": "error",
     "traceback": [
      "\u001b[1;31m---------------------------------------------------------------------------\u001b[0m",
      "\u001b[1;31mNameError\u001b[0m                                 Traceback (most recent call last)",
      "Cell \u001b[1;32mIn[28], line 1\u001b[0m\n\u001b[1;32m----> 1\u001b[0m X\u001b[38;5;241m=\u001b[39mdf12\u001b[38;5;241m.\u001b[39mdrop(\u001b[38;5;124m'\u001b[39m\u001b[38;5;124mprice\u001b[39m\u001b[38;5;124m'\u001b[39m,axis\u001b[38;5;241m=\u001b[39m\u001b[38;5;124m'\u001b[39m\u001b[38;5;124mcolumns\u001b[39m\u001b[38;5;124m'\u001b[39m)\n",
      "\u001b[1;31mNameError\u001b[0m: name 'df12' is not defined"
     ]
    }
   ],
   "source": [
    "X=df12.drop('price',axis='columns')"
   ]
  },
  {
   "cell_type": "code",
   "execution_count": 29,
   "id": "7543dda5",
   "metadata": {
    "papermill": {
     "duration": 0.038224,
     "end_time": "2025-07-01T18:31:19.992133",
     "exception": false,
     "start_time": "2025-07-01T18:31:19.953909",
     "status": "completed"
    },
    "tags": []
   },
   "outputs": [
    {
     "ename": "NameError",
     "evalue": "name 'X' is not defined",
     "output_type": "error",
     "traceback": [
      "\u001b[1;31m---------------------------------------------------------------------------\u001b[0m",
      "\u001b[1;31mNameError\u001b[0m                                 Traceback (most recent call last)",
      "Cell \u001b[1;32mIn[29], line 1\u001b[0m\n\u001b[1;32m----> 1\u001b[0m X\u001b[38;5;241m.\u001b[39mhead()\n",
      "\u001b[1;31mNameError\u001b[0m: name 'X' is not defined"
     ]
    }
   ],
   "source": [
    "X.head()"
   ]
  },
  {
   "cell_type": "code",
   "execution_count": 30,
   "id": "bf572cf0",
   "metadata": {
    "papermill": {
     "duration": 0.025376,
     "end_time": "2025-07-01T18:31:20.038497",
     "exception": false,
     "start_time": "2025-07-01T18:31:20.013121",
     "status": "completed"
    },
    "tags": []
   },
   "outputs": [
    {
     "ename": "NameError",
     "evalue": "name 'df12' is not defined",
     "output_type": "error",
     "traceback": [
      "\u001b[1;31m---------------------------------------------------------------------------\u001b[0m",
      "\u001b[1;31mNameError\u001b[0m                                 Traceback (most recent call last)",
      "Cell \u001b[1;32mIn[30], line 1\u001b[0m\n\u001b[1;32m----> 1\u001b[0m y\u001b[38;5;241m=\u001b[39mdf12\u001b[38;5;241m.\u001b[39mprice\n",
      "\u001b[1;31mNameError\u001b[0m: name 'df12' is not defined"
     ]
    }
   ],
   "source": [
    "y=df12.price"
   ]
  },
  {
   "cell_type": "code",
   "execution_count": 31,
   "id": "3ec1df85",
   "metadata": {
    "papermill": {
     "duration": 0.02873,
     "end_time": "2025-07-01T18:31:20.086434",
     "exception": false,
     "start_time": "2025-07-01T18:31:20.057704",
     "status": "completed"
    },
    "tags": []
   },
   "outputs": [
    {
     "ename": "NameError",
     "evalue": "name 'y' is not defined",
     "output_type": "error",
     "traceback": [
      "\u001b[1;31m---------------------------------------------------------------------------\u001b[0m",
      "\u001b[1;31mNameError\u001b[0m                                 Traceback (most recent call last)",
      "Cell \u001b[1;32mIn[31], line 1\u001b[0m\n\u001b[1;32m----> 1\u001b[0m y\u001b[38;5;241m.\u001b[39mhead()\n",
      "\u001b[1;31mNameError\u001b[0m: name 'y' is not defined"
     ]
    }
   ],
   "source": [
    "y.head()"
   ]
  },
  {
   "cell_type": "code",
   "execution_count": 32,
   "id": "7d6a5e26",
   "metadata": {
    "papermill": {
     "duration": 1.966668,
     "end_time": "2025-07-01T18:31:22.072701",
     "exception": false,
     "start_time": "2025-07-01T18:31:20.106033",
     "status": "completed"
    },
    "tags": []
   },
   "outputs": [
    {
     "ename": "NameError",
     "evalue": "name 'X' is not defined",
     "output_type": "error",
     "traceback": [
      "\u001b[1;31m---------------------------------------------------------------------------\u001b[0m",
      "\u001b[1;31mNameError\u001b[0m                                 Traceback (most recent call last)",
      "Cell \u001b[1;32mIn[32], line 2\u001b[0m\n\u001b[0;32m      1\u001b[0m \u001b[38;5;28;01mfrom\u001b[39;00m\u001b[38;5;250m \u001b[39m\u001b[38;5;21;01msklearn\u001b[39;00m\u001b[38;5;21;01m.\u001b[39;00m\u001b[38;5;21;01mmodel_selection\u001b[39;00m\u001b[38;5;250m \u001b[39m\u001b[38;5;28;01mimport\u001b[39;00m train_test_split\n\u001b[1;32m----> 2\u001b[0m X_train,X_test,y_train,y_test\u001b[38;5;241m=\u001b[39mtrain_test_split(X,y,test_size\u001b[38;5;241m=\u001b[39m\u001b[38;5;241m0.2\u001b[39m,random_state\u001b[38;5;241m=\u001b[39m\u001b[38;5;241m10\u001b[39m)\n",
      "\u001b[1;31mNameError\u001b[0m: name 'X' is not defined"
     ]
    }
   ],
   "source": [
    "from sklearn.model_selection import train_test_split\n",
    "X_train,X_test,y_train,y_test=train_test_split(X,y,test_size=0.2,random_state=10)"
   ]
  },
  {
   "cell_type": "code",
   "execution_count": null,
   "id": "359c6b8f",
   "metadata": {
    "papermill": {
     "duration": 1.930031,
     "end_time": "2025-07-01T18:31:24.021922",
     "exception": false,
     "start_time": "2025-07-01T18:31:22.091891",
     "status": "completed"
    },
    "tags": []
   },
   "outputs": [],
   "source": [
    "from sklearn.linear_model import LinearRegression\n",
    "lr_clf=LinearRegression()\n",
    "lr_clf.fit(X_train,y_train)\n",
    "lr_clf.score(X_test,y_test)"
   ]
  },
  {
   "cell_type": "code",
   "execution_count": null,
   "id": "8299b454",
   "metadata": {
    "papermill": {
     "duration": 0.92149,
     "end_time": "2025-07-01T18:31:24.975943",
     "exception": false,
     "start_time": "2025-07-01T18:31:24.054453",
     "status": "completed"
    },
    "tags": []
   },
   "outputs": [],
   "source": [
    "from sklearn.model_selection import ShuffleSplit, cross_val_score\n",
    "\n",
    "cv=ShuffleSplit(n_splits=5,test_size=0.2,random_state=0)\n",
    "\n",
    "cross_val_score(LinearRegression(),X,y,cv=cv)"
   ]
  },
  {
   "cell_type": "code",
   "execution_count": null,
   "id": "cb55482f",
   "metadata": {
    "papermill": {
     "duration": 0.257005,
     "end_time": "2025-07-01T18:31:25.266837",
     "exception": false,
     "start_time": "2025-07-01T18:31:25.009832",
     "status": "completed"
    },
    "tags": []
   },
   "outputs": [],
   "source": [
    "from sklearn.model_selection import GridSearchCV, ShuffleSplit\n",
    "from sklearn.linear_model import LinearRegression, Lasso\n",
    "from sklearn.tree import DecisionTreeRegressor\n",
    "from sklearn.pipeline import Pipeline\n",
    "from sklearn.preprocessing import StandardScaler\n",
    "import pandas as pd\n",
    "\n",
    "def find_best_model_using_gridsearchcv(X, y):\n",
    "    algos = {\n",
    "        'linear_regression': {\n",
    "            'model': Pipeline([\n",
    "                ('scaler', StandardScaler()),\n",
    "                ('regressor', LinearRegression())\n",
    "            ]),\n",
    "            'params': {\n",
    "                'regressor__fit_intercept': [True, False],\n",
    "                'regressor__positive': [True, False]\n",
    "            }\n",
    "        },\n",
    "        'lasso': {\n",
    "            'model': Lasso(),\n",
    "            'params': {\n",
    "                'alpha': [1, 2],\n",
    "                'selection': ['random', 'cyclic']\n",
    "            }\n",
    "        },\n",
    "        'decision_tree': {\n",
    "            'model': DecisionTreeRegressor(),\n",
    "            'params': {\n",
    "                'criterion': ['squared_error', 'friedman_mse'],  # 'mse' is deprecated\n",
    "                'splitter': ['best', 'random']\n",
    "            }\n",
    "        }\n",
    "    }\n",
    "\n",
    "    scores = []\n",
    "    cv = ShuffleSplit(n_splits=5, test_size=0.2, random_state=0)\n",
    "\n",
    "    for algo_name, config in algos.items():\n",
    "        gs = GridSearchCV(config['model'], config['params'], cv=cv, return_train_score=False)\n",
    "        gs.fit(X, y)\n",
    "        scores.append({\n",
    "            'model': algo_name,\n",
    "            'best_score': gs.best_score_,\n",
    "            'best_params': gs.best_params_\n",
    "        })\n",
    "\n",
    "    return pd.DataFrame(scores, columns=['model', 'best_score', 'best_params'])\n"
   ]
  },
  {
   "cell_type": "code",
   "execution_count": null,
   "id": "b2337732",
   "metadata": {
    "papermill": {
     "duration": 37.18686,
     "end_time": "2025-07-01T18:32:02.473100",
     "exception": false,
     "start_time": "2025-07-01T18:31:25.286240",
     "status": "completed"
    },
    "tags": []
   },
   "outputs": [],
   "source": [
    "find_best_model_using_gridsearchcv(X,y)"
   ]
  },
  {
   "cell_type": "code",
   "execution_count": null,
   "id": "a797afc3",
   "metadata": {
    "papermill": {
     "duration": 0.028644,
     "end_time": "2025-07-01T18:32:02.522096",
     "exception": false,
     "start_time": "2025-07-01T18:32:02.493452",
     "status": "completed"
    },
    "tags": []
   },
   "outputs": [],
   "source": [
    "X.columns"
   ]
  },
  {
   "cell_type": "code",
   "execution_count": null,
   "id": "b0d81e37",
   "metadata": {
    "papermill": {
     "duration": 0.028612,
     "end_time": "2025-07-01T18:32:02.570073",
     "exception": false,
     "start_time": "2025-07-01T18:32:02.541461",
     "status": "completed"
    },
    "tags": []
   },
   "outputs": [],
   "source": [
    "np.where(X.columns==\"2nd Phase Judicial Layout\")[0][0]"
   ]
  },
  {
   "cell_type": "code",
   "execution_count": null,
   "id": "33cea18f",
   "metadata": {
    "papermill": {
     "duration": 0.026671,
     "end_time": "2025-07-01T18:32:02.616347",
     "exception": false,
     "start_time": "2025-07-01T18:32:02.589676",
     "status": "completed"
    },
    "tags": []
   },
   "outputs": [],
   "source": [
    "def predict_price(location,sqft,bath,bhk):\n",
    "    loc_index=np.where(X.columns==location)[0][0]\n",
    "\n",
    "    x=np.zeros(len(X.columns))\n",
    "    x[0]=sqft\n",
    "    x[1]=bath\n",
    "    x[2]=bhk\n",
    "    if loc_index>=0:\n",
    "        x[loc_index]=1\n",
    "    return lr_clf.predict([x])[0]"
   ]
  },
  {
   "cell_type": "code",
   "execution_count": null,
   "id": "bac71c7a",
   "metadata": {
    "papermill": {
     "duration": 0.030427,
     "end_time": "2025-07-01T18:32:02.666285",
     "exception": false,
     "start_time": "2025-07-01T18:32:02.635858",
     "status": "completed"
    },
    "tags": []
   },
   "outputs": [],
   "source": [
    "predict_price('1st Phase JP Nagar',1000,2,2)"
   ]
  },
  {
   "cell_type": "code",
   "execution_count": null,
   "id": "babff485",
   "metadata": {
    "papermill": {
     "duration": 0.029036,
     "end_time": "2025-07-01T18:32:02.715340",
     "exception": false,
     "start_time": "2025-07-01T18:32:02.686304",
     "status": "completed"
    },
    "tags": []
   },
   "outputs": [],
   "source": [
    "predict_price('1st Phase JP Nagar',1000,3,3)"
   ]
  },
  {
   "cell_type": "code",
   "execution_count": null,
   "id": "d6447a48",
   "metadata": {
    "papermill": {
     "duration": 0.030921,
     "end_time": "2025-07-01T18:32:02.766895",
     "exception": false,
     "start_time": "2025-07-01T18:32:02.735974",
     "status": "completed"
    },
    "tags": []
   },
   "outputs": [],
   "source": [
    "predict_price('Indira Nagar',1000,2,2)"
   ]
  },
  {
   "cell_type": "code",
   "execution_count": null,
   "id": "b51b72dc",
   "metadata": {
    "papermill": {
     "duration": 0.02853,
     "end_time": "2025-07-01T18:32:02.815462",
     "exception": false,
     "start_time": "2025-07-01T18:32:02.786932",
     "status": "completed"
    },
    "tags": []
   },
   "outputs": [],
   "source": [
    "predict_price('Indira Nagar',1000,3,3)"
   ]
  },
  {
   "cell_type": "markdown",
   "id": "9ac329c8",
   "metadata": {
    "papermill": {
     "duration": 0.020632,
     "end_time": "2025-07-01T18:32:02.858238",
     "exception": false,
     "start_time": "2025-07-01T18:32:02.837606",
     "status": "completed"
    },
    "tags": []
   },
   "source": [
    "# Export the tested model to a pickle file"
   ]
  },
  {
   "cell_type": "code",
   "execution_count": null,
   "id": "4ad474e6",
   "metadata": {
    "papermill": {
     "duration": 0.027891,
     "end_time": "2025-07-01T18:32:02.906864",
     "exception": false,
     "start_time": "2025-07-01T18:32:02.878973",
     "status": "completed"
    },
    "tags": []
   },
   "outputs": [],
   "source": [
    "import pickle\n",
    "with open('banglore_home_preices_model.pickle','wb') as f:\n",
    "    pickle.dump(lr_clf,f)"
   ]
  },
  {
   "cell_type": "markdown",
   "id": "0be43744",
   "metadata": {
    "papermill": {
     "duration": 0.020968,
     "end_time": "2025-07-01T18:32:02.948452",
     "exception": false,
     "start_time": "2025-07-01T18:32:02.927484",
     "status": "completed"
    },
    "tags": []
   },
   "source": [
    "# Export location and column information to a file that will be useful later on in our prediction application"
   ]
  },
  {
   "cell_type": "code",
   "execution_count": 79,
   "id": "9ad75ee3",
   "metadata": {
    "execution": {
     "iopub.execute_input": "2025-07-01T18:32:02.992600Z",
     "iopub.status.busy": "2025-07-01T18:32:02.991744Z",
     "iopub.status.idle": "2025-07-01T18:32:02.997369Z",
     "shell.execute_reply": "2025-07-01T18:32:02.996456Z"
    },
    "papermill": {
     "duration": 0.029648,
     "end_time": "2025-07-01T18:32:02.998833",
     "exception": false,
     "start_time": "2025-07-01T18:32:02.969185",
     "status": "completed"
    },
    "tags": []
   },
   "outputs": [],
   "source": [
    "import json\n",
    "columns={\n",
    "    'data_columns' : [col.lower() for col in X.columns]\n",
    "}\n",
    "with open(\"columns.json\",\"w\") as f:\n",
    "    f.write(json.dumps(columns))"
   ]
  },
  {
   "cell_type": "code",
   "execution_count": null,
   "id": "9cc9ac45",
   "metadata": {
    "papermill": {
     "duration": 0.020001,
     "end_time": "2025-07-01T18:32:03.040746",
     "exception": false,
     "start_time": "2025-07-01T18:32:03.020745",
     "status": "completed"
    },
    "tags": []
   },
   "outputs": [],
   "source": []
  }
 ],
 "metadata": {
  "kaggle": {
   "accelerator": "none",
   "dataSources": [
    {
     "datasetId": 20710,
     "sourceId": 26737,
     "sourceType": "datasetVersion"
    }
   ],
   "dockerImageVersionId": 31040,
   "isGpuEnabled": false,
   "isInternetEnabled": true,
   "language": "python",
   "sourceType": "notebook"
  },
  "kernelspec": {
   "display_name": "Python 3 (ipykernel)",
   "language": "python",
   "name": "python3"
  },
  "language_info": {
   "codemirror_mode": {
    "name": "ipython",
    "version": 3
   },
   "file_extension": ".py",
   "mimetype": "text/x-python",
   "name": "python",
   "nbconvert_exporter": "python",
   "pygments_lexer": "ipython3",
   "version": "3.13.5"
  },
  "papermill": {
   "default_parameters": {},
   "duration": 55.983083,
   "end_time": "2025-07-01T18:32:03.784329",
   "environment_variables": {},
   "exception": null,
   "input_path": "__notebook__.ipynb",
   "output_path": "__notebook__.ipynb",
   "parameters": {},
   "start_time": "2025-07-01T18:31:07.801246",
   "version": "2.6.0"
  }
 },
 "nbformat": 4,
 "nbformat_minor": 5
}
